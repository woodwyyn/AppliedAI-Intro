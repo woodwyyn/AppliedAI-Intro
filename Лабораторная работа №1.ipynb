{
 "cells": [
  {
   "cell_type": "code",
   "execution_count": 21,
   "id": "63c7720d-fd35-45e0-9551-85486cc9dd2d",
   "metadata": {},
   "outputs": [],
   "source": [
    "int_variable = 10\n",
    "assert isinstance(int_variable, int)\n",
    "\n",
    "float_variable = 10.1\n",
    "assert isinstance(float_variable, float)\n",
    "\n",
    "string_variable = 'string'\n",
    "assert isinstance(string_variable, str)\n",
    "\n",
    "bool_variable = True\n",
    "assert isinstance(bool_variable, bool)"
   ]
  },
  {
   "cell_type": "code",
   "execution_count": 22,
   "id": "46b0cebb-83c9-493b-aedd-a93638a48c6b",
   "metadata": {},
   "outputs": [],
   "source": [
    "list_variable = [1, 2, 3, 4, 'пять', 'six', True]\n",
    "assert isinstance(list_variable, list)\n",
    "\n",
    "tuple_variable = (1, 2, 3, 4, 'пять', 'six', True)\n",
    "assert isinstance(tuple_variable, tuple)\n",
    "\n",
    "set_variable = {1, 2, 3, 4, 'пять', 'six', True}\n",
    "assert isinstance(set_variable, set)\n",
    "\n",
    "dict_variable = {\n",
    "    'name' : 'Alena',\n",
    "    'age' : 20,\n",
    "}\n",
    "assert isinstance(dict_variable, dict)"
   ]
  },
  {
   "cell_type": "code",
   "execution_count": 23,
   "id": "7704915c-3eba-46b1-a02f-1962e30ae693",
   "metadata": {},
   "outputs": [],
   "source": [
    "def difference_of_two_numbers(first, second):\n",
    "    return first - second\n",
    "\n",
    "\n",
    "assert difference_of_two_numbers(2, 1) == 1\n",
    "assert difference_of_two_numbers(4, 1) == 3\n",
    "assert difference_of_two_numbers(10, 0) == 10\n",
    "assert difference_of_two_numbers(-5, -6) == 1"
   ]
  },
  {
   "cell_type": "code",
   "execution_count": 24,
   "id": "670a9e52-da47-47da-8fad-b1538e4a4f12",
   "metadata": {},
   "outputs": [],
   "source": [
    "def condition_function(input_number):\n",
    "    if (input_number <= 0):\n",
    "        return input_number * 2\n",
    "    elif (0 < input_number <= 10):\n",
    "        return input_number * 3\n",
    "    else:\n",
    "        return input_number / 10\n",
    "    pass\n",
    "\n",
    "\n",
    "assert condition_function(0) == 0\n",
    "assert condition_function(-1) == -2\n",
    "assert condition_function(1) == 3\n",
    "assert condition_function(10) == 30\n",
    "assert condition_function(11) == 1.1\n",
    "assert condition_function(20) == 2"
   ]
  },
  {
   "cell_type": "code",
   "execution_count": 25,
   "id": "ac58152c-030d-444b-8ea1-a129b6d7f062",
   "metadata": {},
   "outputs": [],
   "source": [
    "def calculator(number_1, operation, number_2):\n",
    "    match  operation:\n",
    "        case \"+\":\n",
    "            return number_1 + number_2\n",
    "        case \"-\":\n",
    "            return number_1 - number_2\n",
    "        case \"*\":\n",
    "            return number_1 * number_2\n",
    "        case \"/\":\n",
    "            return number_1 / number_2\n",
    "        case _:\n",
    "            raise ValueError(\"Нет нужной операции\")\n",
    "\n",
    "\n",
    "assert calculator(1, \"+\", 2) == 3\n",
    "assert calculator(3, \"-\", 1) == 2\n",
    "assert calculator(4, \"*\", 3) == 12\n",
    "assert calculator(2, \"/\", 2) == 1"
   ]
  },
  {
   "cell_type": "code",
   "execution_count": 26,
   "id": "575c3fdc-76b5-4609-8906-706eaa63fa59",
   "metadata": {},
   "outputs": [],
   "source": [
    "def number_of_unique_elements(input_list):\n",
    "    return len(set(input_list))\n",
    "\n",
    "assert number_of_unique_elements([1, 2, 3]) == 3\n",
    "assert number_of_unique_elements([1] * 93) == 1\n",
    "assert number_of_unique_elements(list(range(1000))) == 1000"
   ]
  },
  {
   "cell_type": "code",
   "execution_count": 27,
   "id": "8a4e2460-03c2-45af-81b3-1801009c44af",
   "metadata": {},
   "outputs": [],
   "source": [
    "def counter(input_list):\n",
    "    ans = {}\n",
    "    for item in input_list:\n",
    "        if item in ans:\n",
    "            ans[item] += 1\n",
    "        else:\n",
    "            ans[item] = 1\n",
    "            \n",
    "    return ans\n",
    "assert counter([1, 1, 1, 2, 3]) == {1: 3, 2: 1, 3: 1}\n",
    "assert counter([1] * 1000) == {1: 1000}\n",
    "assert counter([1, 3, 5] * 100) == {1: 100, 3: 100, 5: 100}"
   ]
  },
  {
   "cell_type": "code",
   "execution_count": 28,
   "id": "8db5ff8b-be5e-4c93-a966-2059f5e6188c",
   "metadata": {},
   "outputs": [],
   "source": [
    "def multiply_nums(input_string):\n",
    "    numbers = input_string.split(', ')\n",
    "    result = 1\n",
    "\n",
    "    for num in numbers:\n",
    "        result *= int(num) \n",
    "\n",
    "    return result\n",
    "\n",
    "assert multiply_nums(\"2, 3\") == 6\n",
    "assert multiply_nums(\"1, 2, 3, 4\") == 24\n",
    "assert multiply_nums(\"5\") == 5"
   ]
  },
  {
   "cell_type": "code",
   "execution_count": 29,
   "id": "e01e3f73-3a02-470b-9797-226aba80cd59",
   "metadata": {},
   "outputs": [],
   "source": [
    "import math\n",
    "def custom_function(x):\n",
    "    return math.sin(x) * math.cos(x)\n",
    "\n",
    "\n",
    "assert round(custom_function(1), 3) == 0.455\n",
    "assert round(custom_function(1.5), 3) == 0.071\n",
    "assert round(custom_function(2), 3) == -0.378\n",
    "assert custom_function(0) == 0"
   ]
  },
  {
   "cell_type": "code",
   "execution_count": 30,
   "id": "438d99a6-dd6d-46e8-b89b-b8fbea7f0963",
   "metadata": {},
   "outputs": [],
   "source": [
    "import math\n",
    "def custom_function_1(x, n):\n",
    "    ans = 1\n",
    "    for i in range(1, n+1):\n",
    "        ans *= (math.pow((i+2), x) + math.log(x))/(math.pow(x, 2) + 4*i)\n",
    "    return ans\n",
    "\n",
    "assert round(custom_function_1(2, 3), 3) == 2.707\n",
    "assert round(custom_function_1(3, 2), 3) == 8.277\n",
    "assert round(custom_function_1(3, 3), 3) == 49.7"
   ]
  },
  {
   "cell_type": "code",
   "execution_count": 31,
   "id": "440a0637-924e-4cb6-8b3e-3ee430f80186",
   "metadata": {},
   "outputs": [],
   "source": [
    "def time_converter(n):\n",
    "    days = n % (24 * 60)\n",
    "    hours = days // 60\n",
    "    minutes = days % 60\n",
    "    return f\"{hours} {minutes}\"\n",
    "\n",
    "assert time_converter(2782) == '22 22'\n",
    "assert time_converter(4733) == '6 53'\n",
    "assert time_converter(1766) == '5 26'\n",
    "assert time_converter(3865) == '16 25'\n",
    "assert time_converter(4628) == '5 8'\n",
    "assert time_converter(4353) == '0 33'\n",
    "assert time_converter(268) == '4 28'\n",
    "assert time_converter(4373) == '0 53'\n",
    "assert time_converter(2722) == '21 22'\n",
    "assert time_converter(1531) == '1 31'"
   ]
  },
  {
   "cell_type": "code",
   "execution_count": 32,
   "id": "062797c7-ab09-4a47-9b85-085d30f87035",
   "metadata": {},
   "outputs": [],
   "source": [
    "def min_of_three_values(a, b, c):\n",
    "    minValue = a\n",
    "    if b < minValue:\n",
    "        minValue = b \n",
    "    if c < minValue:\n",
    "        minValue = c\n",
    "    return minValue\n",
    "    \n",
    "assert min_of_three_values(1, 2, 3) == 1\n",
    "assert min_of_three_values(1, 1, 9) == 1\n",
    "assert min_of_three_values(18, 7, 11) == 7\n",
    "assert min_of_three_values(2, 10, 10) == 2\n",
    "assert min_of_three_values(17, 14, 17) == 14\n",
    "assert min_of_three_values(9, 2, 10) == 2\n",
    "assert min_of_three_values(7, 4, 7) == 4\n",
    "assert min_of_three_values(0, 8, 3) == 0\n",
    "assert min_of_three_values(8, 10, 6) == 6\n",
    "assert min_of_three_values(1, 4, 8) == 1"
   ]
  },
  {
   "cell_type": "code",
   "execution_count": 33,
   "id": "798cd193-0b9a-4e54-850b-73dba22ddd03",
   "metadata": {},
   "outputs": [],
   "source": [
    "def remove_symbol(line, char):\n",
    "    return line.replace(char, '')\n",
    "\n",
    "assert remove_symbol('aaaaaaaa', 'a') == ''\n",
    "assert remove_symbol('abababa', 'b') == 'aaaa'\n",
    "assert remove_symbol('12341234', '3') == '124124'"
   ]
  },
  {
   "cell_type": "code",
   "execution_count": 34,
   "id": "99326131-8e3a-4fa1-b2db-c5b8d291774f",
   "metadata": {},
   "outputs": [],
   "source": [
    "def remove_each_third_sym(line):\n",
    "    s = ''\n",
    "    for i in range(len(line)):\n",
    "        if (i + 1) % 3 != 0:\n",
    "            s += line[i]\n",
    "    return s \n",
    "\n",
    "assert remove_each_third_sym('abcdef') == 'abde'\n",
    "assert remove_each_third_sym('sdfasdfasdfsfa') == 'sdasfadffa'\n",
    "assert remove_each_third_sym('123456789') == '124578'\n",
    "assert remove_each_third_sym('987654321') == '986532'"
   ]
  },
  {
   "cell_type": "code",
   "execution_count": 35,
   "id": "2dc9fb07-fe8e-4245-ae14-e9bc125aec9a",
   "metadata": {},
   "outputs": [],
   "source": [
    "def find_max(list1):\n",
    "    maxValue = list1[0]\n",
    "    maxIndex = 0\n",
    "    \n",
    "    for i in range(1, len(list1)):\n",
    "        if list1[i] > maxValue:\n",
    "            maxValue = list1[i]\n",
    "            maxIndex = i\n",
    "    \n",
    "    return (maxValue, maxIndex)\n",
    "\n",
    "assert find_max([1, 2, 3, 4, 5]) == (5, 4)\n",
    "assert find_max([5, 4, 3, 2, 1]) == (5, 0)\n",
    "assert find_max([96, 82, 72, 48, 93, 88, 79]) == (96, 0)\n",
    "assert find_max([49, 75, 65, 65, 65, 18]) == (75, 1)\n",
    "assert find_max([69, 16, 64, 54, 36, 70, 89, 29]) == (89, 6)\n",
    "assert find_max([17, 80, 27, 36, 21, 85, 63, 27]) == (85, 5)\n",
    "assert find_max([76, 27, 73, 65, 52]) == (76, 0)\n",
    "assert find_max([33, 26, 69, 40, 93]) == (93, 4)\n",
    "assert find_max([87, 5, 95, 52, 21, 76, 22]) == (95, 2)\n",
    "assert find_max([75, 18, 89, 99, 70]) == (99, 3)"
   ]
  },
  {
   "cell_type": "code",
   "execution_count": 36,
   "id": "9ce68572-ad3c-4bfa-9f30-dca9f1f8179f",
   "metadata": {},
   "outputs": [],
   "source": [
    "def append_to_list(list1, value):\n",
    "    list1.append(value)\n",
    "    return list1\n",
    "\n",
    "assert append_to_list([1, 2], 3) == [1, 2, 3]\n",
    "assert append_to_list([1, 2], None) == [1, 2, None]\n",
    "assert append_to_list([1, 's'], True) == [1, 's', True]"
   ]
  },
  {
   "cell_type": "code",
   "execution_count": 37,
   "id": "a2a0ae83-9370-4b7b-b81d-476709b63302",
   "metadata": {},
   "outputs": [],
   "source": [
    "def number_unique_elements(list1):\n",
    "    return len(set(list1))\n",
    "    \n",
    "assert number_unique_elements([1, 2, 3]) == 3\n",
    "assert number_unique_elements([1, 2, 1]) == 2\n",
    "assert number_unique_elements([1, 1, 1, 1]) == 1\n",
    "assert number_unique_elements([1, 2, 1, 2]) == 2\n"
   ]
  },
  {
   "cell_type": "code",
   "execution_count": 38,
   "id": "eea4723d-7f6f-4805-83f8-aca21c1b1540",
   "metadata": {},
   "outputs": [],
   "source": [
    "class Vehicle:\n",
    "    def __init__(self, max_speed, mileage):\n",
    "        self.max_speed = max_speed\n",
    "        self.mileage = mileage\n",
    "\n",
    "\n",
    "veh1 = Vehicle(100, 50)\n",
    "assert (veh1.max_speed, veh1.mileage) == (100, 50)\n",
    "\n",
    "veh2 = Vehicle(200, 3)\n",
    "assert (veh2.max_speed, veh2.mileage) == (200, 3)"
   ]
  },
  {
   "cell_type": "code",
   "execution_count": 34,
   "id": "b9e115a4-f4ff-4121-a95b-6ceec7e8e8d6",
   "metadata": {},
   "outputs": [],
   "source": [
    "class Truck(Vehicle):\n",
    "    def __init__(self, max_speed, mileage):\n",
    "        super().__init__(max_speed, mileage)\n",
    "\n",
    "\n",
    "truck1 = Truck(50, 1000)\n",
    "assert (truck1.max_speed, truck1.mileage) == (50, 1000)\n",
    "\n",
    "truck2 = Truck(43, 235)\n",
    "assert (truck2.max_speed, truck2.mileage) == (43, 235)"
   ]
  },
  {
   "cell_type": "code",
   "execution_count": 38,
   "id": "0b6779a3-05eb-4bcb-ab9c-4529ab6f50b7",
   "metadata": {},
   "outputs": [],
   "source": [
    "class MyList:\n",
    "    def __init__(self, myList):\n",
    "        self.myList = myList\n",
    "    \n",
    "    def return_sum(self):\n",
    "        result = 0\n",
    "        for i in range(len(self.myList)):\n",
    "            result += self.myList[i]\n",
    "        return result\n",
    "    \n",
    "    def make_reverse(self):\n",
    "        result = []\n",
    "        for i in range(len(self.myList) - 1, -1, -1):\n",
    "            result.append(self.myList[i])\n",
    "        return result\n",
    "    \n",
    "    def make_slice(self, start, stop):\n",
    "        result = []\n",
    "        for i in range(start, stop):\n",
    "            if i < len(self.myList): \n",
    "                result.append(self.myList[i])\n",
    "        return result\n",
    "\n",
    "\n",
    "a = MyList([1, 2, 3, 4])\n",
    "assert a.return_sum() == 10\n",
    "assert a.make_reverse() == [4, 3, 2, 1]\n",
    "assert a.make_slice(0, 2) == [1, 2]\n",
    "\n",
    "b = MyList([5, 6, 6, 5])\n",
    "assert b.return_sum() == 22\n",
    "assert b.make_reverse() == [5, 6, 6, 5]\n",
    "assert b.make_slice(1, 2) == [6]"
   ]
  },
  {
   "cell_type": "code",
   "execution_count": null,
   "id": "b35ca733-2681-45c5-950d-d515c4c7e307",
   "metadata": {},
   "outputs": [],
   "source": []
  }
 ],
 "metadata": {
  "kernelspec": {
   "display_name": "Python 3 (ipykernel)",
   "language": "python",
   "name": "python3"
  },
  "language_info": {
   "codemirror_mode": {
    "name": "ipython",
    "version": 3
   },
   "file_extension": ".py",
   "mimetype": "text/x-python",
   "name": "python",
   "nbconvert_exporter": "python",
   "pygments_lexer": "ipython3",
   "version": "3.11.9"
  }
 },
 "nbformat": 4,
 "nbformat_minor": 5
}
